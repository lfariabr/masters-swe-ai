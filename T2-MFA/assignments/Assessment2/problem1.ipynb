{
 "cells": [
  {
   "cell_type": "markdown",
   "id": "a45e7965",
   "metadata": {},
   "source": [
    "# Assessment 1"
   ]
  },
  {
   "cell_type": "markdown",
   "id": "982a427c",
   "metadata": {},
   "source": [
    "## Task\n",
    "\n",
    "1. Write a program based on a recursive function to calculate the determinant of a nxn general matrix\n",
    "2. Write a program to find the Eigenvalues, Eigenvectors, and Eigenspaces of a nxn general matrix"
   ]
  },
  {
   "cell_type": "markdown",
   "id": "05185a7c",
   "metadata": {},
   "source": [
    "---"
   ]
  },
  {
   "cell_type": "markdown",
   "id": "d395059e",
   "metadata": {},
   "source": [
    "### Problem 1"
   ]
  },
  {
   "cell_type": "markdown",
   "id": "6bd50213",
   "metadata": {},
   "source": [
    "#### Step 1: How we'll be representing a matrix:\n",
    "\n",
    "We'll use a list of lists. Each inner list will be a row:"
   ]
  },
  {
   "cell_type": "code",
   "execution_count": 1,
   "id": "25e4000a",
   "metadata": {},
   "outputs": [
    {
     "name": "stdout",
     "output_type": "stream",
     "text": [
      "[[1, 2, 3], [0, 4, 5], [1, 0, 6]]\n"
     ]
    }
   ],
   "source": [
    "# A 3x3 example matrix\n",
    "A = [\n",
    "    [1, 2, 3],\n",
    "    [0, 4, 5],\n",
    "    [1, 0, 6]\n",
    "]\n",
    "print(A)"
   ]
  },
  {
   "cell_type": "markdown",
   "id": "947f84b7",
   "metadata": {},
   "source": [
    "#### Step 2: Tiny helpers\n",
    "\n",
    "shape and is_square as helpers"
   ]
  },
  {
   "cell_type": "code",
   "execution_count": null,
   "id": "c7c03449",
   "metadata": {},
   "outputs": [
    {
     "name": "stdout",
     "output_type": "stream",
     "text": [
      "(3, 3)\n",
      "True\n",
      "False\n"
     ]
    }
   ],
   "source": [
    "def shape(A):\n",
    "    \"\"\"\n",
    "    Return (rows, cols) of a matrix A)\n",
    "    \"\"\"\n",
    "    return len(A), (len(A[0]) if A else 0)\n",
    "\n",
    "def is_square(A):\n",
    "    \"\"\"\n",
    "    True if A is n x n and all rows have the same length\n",
    "    \"\"\"\n",
    "    n, m = shape(A)\n",
    "    if n != m:\n",
    "        return False\n",
    "    return all(len(row) == m for row in A)\n",
    "\n",
    "# Tests /                            expected result\n",
    "print(shape(A))                         # (3, 3)\n",
    "print(is_square(A))                     # True (because it is 3x3)\n",
    "print(is_square([[1,2,3],[4,5,6]]))     # False (because it is 2x3)"
   ]
  },
  {
   "cell_type": "markdown",
   "id": "513067ba",
   "metadata": {},
   "source": [
    "#### Step 3: Build a minor (remove 1 row and 1 column)\n",
    "\n",
    "For Laplace expansion we need the minor matrix M_{ij}:\n",
    "- remove row i\n",
    "- remove column j"
   ]
  },
  {
   "cell_type": "code",
   "execution_count": null,
   "id": "3208e725",
   "metadata": {},
   "outputs": [
    {
     "name": "stdout",
     "output_type": "stream",
     "text": [
      "Original matrix:\n",
      "[[1, 2, 3], [0, 4, 5], [1, 0, 6]]\n",
      "\n",
      "Minor matrix:\n",
      "[[0, 5], [1, 6]]\n"
     ]
    }
   ],
   "source": [
    "def minor_matrix(A, drop_row, drop_col):\n",
    "    \"\"\"\n",
    "    Return the minor of A by removing:\n",
    "    - row 'drop_row' and\n",
    "    - column 'drop_col'\n",
    "    \"\"\"\n",
    "    n = len(A)\n",
    "    return [\n",
    "        # For each row index i except the dropped one...\n",
    "        [A[i][j] for j in range(n) if j != drop_col]\n",
    "        \n",
    "        # build a list of A[i][j] for each column j except the dropped one\n",
    "        for i in range(n) if i != drop_row\n",
    "    ]\n",
    "\n",
    "# Example usage:\n",
    "M = minor_matrix(A, 0, 1)       # remove row0, col1 from A\n",
    "print(f\"Original matrix:\\n{A}\")\n",
    "print(f\"\\nMinor matrix:\\n{M}\")    # expect [[0,5],[1,6]]"
   ]
  },
  {
   "cell_type": "markdown",
   "id": "9ce44671",
   "metadata": {},
   "source": [
    "#### Step 4: Determinant base cases (0x0, 1x1, 2x2)"
   ]
  },
  {
   "cell_type": "code",
   "execution_count": null,
   "id": "94378997",
   "metadata": {},
   "outputs": [
    {
     "name": "stdout",
     "output_type": "stream",
     "text": [
      "7\n",
      "2x2 matrix: [[1, 2], [3, 4]], det=-2\n",
      "-2\n"
     ]
    }
   ],
   "source": [
    "def determinant(A):\n",
    "    \"\"\"\n",
    "    Determinant via Laplace expansion (recursive)\n",
    "    \"\"\"\n",
    "\n",
    "    if not is_square(A):\n",
    "        raise ValueError(\"Determinant is defined only for square matrices\")\n",
    "\n",
    "    n, _ = shape(A)\n",
    "\n",
    "    # Base cases:\n",
    "    if n == 0:\n",
    "        print(f\"0x0 matrix: {A}, det=1\")\n",
    "        # Convention: det([]) = 1. Helps recursion on empty minors\n",
    "        return 1\n",
    "    if n == 1:\n",
    "        print(f\"1x1 matrix: {A}, det={A[0][0]}\")\n",
    "        return A[0][0]\n",
    "    if n == 2:\n",
    "        print(f\"2x2 matrix: {A}, det={A[0][0] * A[1][1] - A[0][1] * A[1][0]}\")\n",
    "        return A[0][0] * A[1][1] - A[0][1] * A[1][0]\n",
    "    \n",
    "    # We'll fix the recursive case next\n",
    "\n",
    "# Testing base cases before proceeding:\n",
    "print(determinant([[7]]))            # 7\n",
    "print(determinant([[1,2],[3,4]]))    # -2"
   ]
  }
 ],
 "metadata": {
  "kernelspec": {
   "display_name": "base",
   "language": "python",
   "name": "python3"
  },
  "language_info": {
   "codemirror_mode": {
    "name": "ipython",
    "version": 3
   },
   "file_extension": ".py",
   "mimetype": "text/x-python",
   "name": "python",
   "nbconvert_exporter": "python",
   "pygments_lexer": "ipython3",
   "version": "3.12.7"
  }
 },
 "nbformat": 4,
 "nbformat_minor": 5
}
