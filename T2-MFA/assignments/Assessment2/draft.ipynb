{
 "cells": [
  {
   "cell_type": "markdown",
   "id": "4f72f2bb",
   "metadata": {},
   "source": [
    "# Briefing"
   ]
  },
  {
   "cell_type": "code",
   "execution_count": null,
   "id": "18473bda",
   "metadata": {},
   "outputs": [],
   "source": [
    "'''\n",
    "- Problem 1: \n",
    "recursive determinant (works for any n\\times n).\n",
    "\n",
    "- Problem 2: eigenvalues/eigenvectors (exact for 2×2; exact real roots for 3×3 via Cardano; \n",
    "            eigenvectors via nullspace of A-\\lambda I).\n",
    "'''"
   ]
  },
  {
   "cell_type": "code",
   "execution_count": null,
   "id": "d0c771c0",
   "metadata": {},
   "outputs": [
    {
     "name": "stdout",
     "output_type": "stream",
     "text": [
      "1x1: 7\n",
      "2x2: -2\n",
      "3x3: 22\n",
      "3x3: -1\n"
     ]
    }
   ],
   "source": [
    "# ------------- determinant.py -------------\n",
    "\n",
    "def shape(A):\n",
    "    \"\"\"Return the shape of a matrix A.\"\"\"\n",
    "    return len(A), (len(A[0]) if A else 0)\n",
    "\n",
    "def is_square(A):\n",
    "    \"\"\"Check if a matrix is square.\"\"\"\n",
    "    n, m = shape(A)\n",
    "    if n != m: \n",
    "        return False\n",
    "    return all(len(row) == m for row in A)\n",
    "\n",
    "def minor_matrix(A, drop_row, drop_col):\n",
    "    \"\"\"Return the minor of A by removing row 'drop_row' and column 'drop_col'.\"\"\"\n",
    "    n = len(A)\n",
    "    return [\n",
    "        [A[i][j] for j in range(n) if j != drop_col]\n",
    "        for i in range(n) if i != drop_row\n",
    "    ]\n",
    "\n",
    "def determinant(A):\n",
    "    \"\"\"Determinant via Laplace expansion (recursive).\"\"\"\n",
    "    if not is_square(A):\n",
    "        raise ValueError(\"Determinant is defined only for square matrices.\")\n",
    "    n, _ = shape(A)\n",
    "\n",
    "    # Base cases\n",
    "    if n == 0:\n",
    "        return 1  # convention\n",
    "    if n == 1:\n",
    "        return A[0][0]\n",
    "    if n == 2:\n",
    "        return A[0][0]*A[1][1] - A[0][1]*A[1][0]\n",
    "\n",
    "    # Recursive Laplace expansion along first row (row index 0)\n",
    "    total = 0\n",
    "    sign = 1  # starts positive at column 0; then alternates\n",
    "    for j in range(n):\n",
    "        a_0j = A[0][j]\n",
    "        if a_0j != 0:  # small optimization: skip zero entries\n",
    "            M = minor_matrix(A, 0, j)\n",
    "            total += sign * a_0j * determinant(M)\n",
    "        sign = -sign\n",
    "    return total\n",
    "\n",
    "\n",
    "# ------------------------- quick tests -------------------------\n",
    "\n",
    "if __name__ == \"__main__\":\n",
    "    # 1x1\n",
    "    print(f\"1x1: {determinant([[7]])}\")  # 7\n",
    "\n",
    "    # 2x2\n",
    "    print(f\"2x2: {determinant([[1, 2],\n",
    "                       [3, 4]])}\")  # -2\n",
    "\n",
    "    # 3x3 (worked example below shows why this is 22)\n",
    "    A = [[1, 2, 3],\n",
    "         [0, 4, 5],\n",
    "         [1, 0, 6]]\n",
    "    print(f\"3x3: {determinant(A)}\")  # 22\n",
    "\n",
    "    # Another 3x3 (expect -1)\n",
    "    B = [[2, 1, 3],\n",
    "         [1, 0, 2],\n",
    "         [4, 1, 8]]\n",
    "    print(f\"3x3: {determinant(B)}\")  # -1"
   ]
  }
 ],
 "metadata": {
  "kernelspec": {
   "display_name": "base",
   "language": "python",
   "name": "python3"
  },
  "language_info": {
   "codemirror_mode": {
    "name": "ipython",
    "version": 3
   },
   "file_extension": ".py",
   "mimetype": "text/x-python",
   "name": "python",
   "nbconvert_exporter": "python",
   "pygments_lexer": "ipython3",
   "version": "3.12.7"
  }
 },
 "nbformat": 4,
 "nbformat_minor": 5
}
