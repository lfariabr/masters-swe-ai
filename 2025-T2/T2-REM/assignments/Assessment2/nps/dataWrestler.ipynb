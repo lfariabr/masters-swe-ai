{
 "cells": [
  {
   "cell_type": "markdown",
   "id": "e1df2934",
   "metadata": {},
   "source": [
    "### Opening"
   ]
  },
  {
   "cell_type": "code",
   "execution_count": 23,
   "id": "08686f6b",
   "metadata": {},
   "outputs": [
    {
     "name": "stdout",
     "output_type": "stream",
     "text": [
      "(27373, 5)\n"
     ]
    }
   ],
   "source": [
    "import os\n",
    "import pandas as pd\n",
    "\n",
    "folder = \"/Users/luisfaria/Desktop/sEngineer/masters_SWEAI/2025-T2/T2-REM/assignments/Assessment2/nps\"\n",
    "\n",
    "# If in codespaces:\n",
    "# folder = \"/workspaces/masters-swe-ai/2025-T2/T2-REM/assignments/Assessment2/nps\"\n",
    "\n",
    "# Open all .xlsx files in the folder\n",
    "for file in os.listdir(folder):\n",
    "    if file.endswith(\".xlsx\"):\n",
    "        df = pd.read_excel(os.path.join(folder, file))\n",
    "        print(df.shape)"
   ]
  },
  {
   "cell_type": "markdown",
   "id": "310cc6b7",
   "metadata": {},
   "source": [
    "### Treating"
   ]
  },
  {
   "cell_type": "code",
   "execution_count": 24,
   "id": "52386c52",
   "metadata": {},
   "outputs": [],
   "source": [
    "# Extract the month from the 'Date' column\n",
    "df['Month'] = pd.to_datetime(df['Date']).dt.month"
   ]
  },
  {
   "cell_type": "code",
   "execution_count": 25,
   "id": "570b0b4b",
   "metadata": {},
   "outputs": [],
   "source": [
    "def categorize_nps(score):\n",
    "    if score >= 9:\n",
    "        return 'Promoter'\n",
    "    elif score >= 7:\n",
    "        return 'Passive'\n",
    "    else:\n",
    "        return 'Detractor'\n",
    "\n",
    "df['Category'] = df['Score'].apply(categorize_nps)"
   ]
  },
  {
   "cell_type": "markdown",
   "id": "2828822e",
   "metadata": {},
   "source": [
    "### Checking"
   ]
  },
  {
   "cell_type": "code",
   "execution_count": 26,
   "id": "68681b99",
   "metadata": {},
   "outputs": [],
   "source": [
    "# Group the DataFrame by 'Store' and 'Month'\n",
    "nps_by_store_month = df.groupby(['Store', 'Month'])['Category'].value_counts(normalize=True).unstack(fill_value=0)\n",
    "\n",
    "# Calculate the NPS for each group\n",
    "nps_by_store_month['NPS'] = (nps_by_store_month['Promoter'] - nps_by_store_month['Detractor']) * 100"
   ]
  },
  {
   "cell_type": "code",
   "execution_count": 27,
   "id": "e587ac18",
   "metadata": {},
   "outputs": [
    {
     "data": {
      "text/html": [
       "<div>\n",
       "<style scoped>\n",
       "    .dataframe tbody tr th:only-of-type {\n",
       "        vertical-align: middle;\n",
       "    }\n",
       "\n",
       "    .dataframe tbody tr th {\n",
       "        vertical-align: top;\n",
       "    }\n",
       "\n",
       "    .dataframe thead th {\n",
       "        text-align: right;\n",
       "    }\n",
       "</style>\n",
       "<table border=\"1\" class=\"dataframe\">\n",
       "  <thead>\n",
       "    <tr style=\"text-align: right;\">\n",
       "      <th></th>\n",
       "      <th></th>\n",
       "      <th>Category</th>\n",
       "      <th>Detractor</th>\n",
       "      <th>Passive</th>\n",
       "      <th>Promoter</th>\n",
       "      <th>NPS</th>\n",
       "    </tr>\n",
       "    <tr>\n",
       "      <th>Store</th>\n",
       "      <th>Month</th>\n",
       "      <th>Year</th>\n",
       "      <th></th>\n",
       "      <th></th>\n",
       "      <th></th>\n",
       "      <th></th>\n",
       "    </tr>\n",
       "  </thead>\n",
       "  <tbody>\n",
       "    <tr>\n",
       "      <th rowspan=\"10\" valign=\"top\">Alphaville</th>\n",
       "      <th>1</th>\n",
       "      <th>2025</th>\n",
       "      <td>0.000000</td>\n",
       "      <td>0.000000</td>\n",
       "      <td>1.000000</td>\n",
       "      <td>100.000000</td>\n",
       "    </tr>\n",
       "    <tr>\n",
       "      <th>2</th>\n",
       "      <th>2025</th>\n",
       "      <td>0.000000</td>\n",
       "      <td>0.000000</td>\n",
       "      <td>1.000000</td>\n",
       "      <td>100.000000</td>\n",
       "    </tr>\n",
       "    <tr>\n",
       "      <th>5</th>\n",
       "      <th>2024</th>\n",
       "      <td>0.000000</td>\n",
       "      <td>0.015625</td>\n",
       "      <td>0.984375</td>\n",
       "      <td>98.437500</td>\n",
       "    </tr>\n",
       "    <tr>\n",
       "      <th>6</th>\n",
       "      <th>2024</th>\n",
       "      <td>0.012048</td>\n",
       "      <td>0.036145</td>\n",
       "      <td>0.951807</td>\n",
       "      <td>93.975904</td>\n",
       "    </tr>\n",
       "    <tr>\n",
       "      <th>7</th>\n",
       "      <th>2024</th>\n",
       "      <td>0.000000</td>\n",
       "      <td>0.028777</td>\n",
       "      <td>0.971223</td>\n",
       "      <td>97.122302</td>\n",
       "    </tr>\n",
       "    <tr>\n",
       "      <th>8</th>\n",
       "      <th>2024</th>\n",
       "      <td>0.023810</td>\n",
       "      <td>0.023810</td>\n",
       "      <td>0.952381</td>\n",
       "      <td>92.857143</td>\n",
       "    </tr>\n",
       "    <tr>\n",
       "      <th>9</th>\n",
       "      <th>2024</th>\n",
       "      <td>0.000000</td>\n",
       "      <td>0.037037</td>\n",
       "      <td>0.962963</td>\n",
       "      <td>96.296296</td>\n",
       "    </tr>\n",
       "    <tr>\n",
       "      <th>10</th>\n",
       "      <th>2024</th>\n",
       "      <td>0.000000</td>\n",
       "      <td>0.000000</td>\n",
       "      <td>1.000000</td>\n",
       "      <td>100.000000</td>\n",
       "    </tr>\n",
       "    <tr>\n",
       "      <th>11</th>\n",
       "      <th>2024</th>\n",
       "      <td>0.000000</td>\n",
       "      <td>0.000000</td>\n",
       "      <td>1.000000</td>\n",
       "      <td>100.000000</td>\n",
       "    </tr>\n",
       "    <tr>\n",
       "      <th>12</th>\n",
       "      <th>2024</th>\n",
       "      <td>1.000000</td>\n",
       "      <td>0.000000</td>\n",
       "      <td>0.000000</td>\n",
       "      <td>-100.000000</td>\n",
       "    </tr>\n",
       "  </tbody>\n",
       "</table>\n",
       "</div>"
      ],
      "text/plain": [
       "Category               Detractor   Passive  Promoter         NPS\n",
       "Store      Month Year                                           \n",
       "Alphaville 1     2025   0.000000  0.000000  1.000000  100.000000\n",
       "           2     2025   0.000000  0.000000  1.000000  100.000000\n",
       "           5     2024   0.000000  0.015625  0.984375   98.437500\n",
       "           6     2024   0.012048  0.036145  0.951807   93.975904\n",
       "           7     2024   0.000000  0.028777  0.971223   97.122302\n",
       "           8     2024   0.023810  0.023810  0.952381   92.857143\n",
       "           9     2024   0.000000  0.037037  0.962963   96.296296\n",
       "           10    2024   0.000000  0.000000  1.000000  100.000000\n",
       "           11    2024   0.000000  0.000000  1.000000  100.000000\n",
       "           12    2024   1.000000  0.000000  0.000000 -100.000000"
      ]
     },
     "execution_count": 27,
     "metadata": {},
     "output_type": "execute_result"
    }
   ],
   "source": [
    "nps_alphaville = df.loc[df['Store'] == 'Alphaville']\n",
    "nps_alphaville_by_store_by_month = nps_alphaville.groupby(['Store', 'Month', 'Year'])['Category'].value_counts(normalize=True).unstack(fill_value=0)\n",
    "nps_alphaville_by_store_by_month['NPS'] = (nps_alphaville_by_store_by_month['Promoter'] - nps_alphaville_by_store_by_month['Detractor']) * 100\n",
    "nps_alphaville_by_store_by_month"
   ]
  },
  {
   "cell_type": "markdown",
   "id": "382c6ffb",
   "metadata": {},
   "source": [
    "### Preparing to merge"
   ]
  },
  {
   "cell_type": "code",
   "execution_count": 28,
   "id": "be4b41a8",
   "metadata": {},
   "outputs": [],
   "source": [
    "# I need to:\n",
    "# 1 - Create a new column called \"month\" that will have YYYY-MM\n",
    "# 2 - Create a new dataframe called \"df_nps_store_monthly\" with the following columns: month, Store, NPS (needs to be calculated with the \"Category\" info), count_of_responses"
   ]
  },
  {
   "cell_type": "code",
   "execution_count": 30,
   "id": "f6060097",
   "metadata": {},
   "outputs": [
    {
     "data": {
      "text/plain": [
       "Index(['Date', 'Score', 'Store', 'Year', 'Comment', 'Month', 'Category'], dtype='object')"
      ]
     },
     "execution_count": 30,
     "metadata": {},
     "output_type": "execute_result"
    }
   ],
   "source": [
    "df.columns"
   ]
  },
  {
   "cell_type": "code",
   "execution_count": 31,
   "id": "50686e96",
   "metadata": {},
   "outputs": [],
   "source": [
    "# Assuming the dataframe is called 'df'\n",
    "# Step 1: Create 'month' column by merging 'Year' and 'Month'\n",
    "df['month'] = df['Year'].astype(str) + '-' + df['Month'].astype(str).str.zfill(2)\n",
    "\n",
    "# Step 2: Create df_nps_store_monthly\n",
    "df_nps_store_monthly = df.groupby(['month', 'Store']).agg(\n",
    "    count_of_responses=('Score', 'count'),\n",
    "    promoters=('Category', lambda x: (x == 'Promoter').sum()),\n",
    "    detractors=('Category', lambda x: (x == 'Detractor').sum())\n",
    ").reset_index()\n",
    "\n",
    "# Calculate NPS: (% Promoters - % Detractors) * 100\n",
    "df_nps_store_monthly['NPS'] = (\n",
    "    (df_nps_store_monthly['promoters'] / df_nps_store_monthly['count_of_responses'] -\n",
    "     df_nps_store_monthly['detractors'] / df_nps_store_monthly['count_of_responses']) * 100\n",
    ")\n",
    "\n",
    "# Drop temporary columns if needed\n",
    "df_nps_store_monthly = df_nps_store_monthly[['month', 'Store', 'NPS', 'count_of_responses']]"
   ]
  },
  {
   "cell_type": "code",
   "execution_count": 34,
   "id": "c2a2b6f7",
   "metadata": {},
   "outputs": [
    {
     "data": {
      "text/html": [
       "<div>\n",
       "<style scoped>\n",
       "    .dataframe tbody tr th:only-of-type {\n",
       "        vertical-align: middle;\n",
       "    }\n",
       "\n",
       "    .dataframe tbody tr th {\n",
       "        vertical-align: top;\n",
       "    }\n",
       "\n",
       "    .dataframe thead th {\n",
       "        text-align: right;\n",
       "    }\n",
       "</style>\n",
       "<table border=\"1\" class=\"dataframe\">\n",
       "  <thead>\n",
       "    <tr style=\"text-align: right;\">\n",
       "      <th></th>\n",
       "      <th>month</th>\n",
       "      <th>Store</th>\n",
       "      <th>NPS</th>\n",
       "      <th>count_of_responses</th>\n",
       "    </tr>\n",
       "  </thead>\n",
       "  <tbody>\n",
       "    <tr>\n",
       "      <th>0</th>\n",
       "      <td>2022-02</td>\n",
       "      <td>Barra da Tijuca</td>\n",
       "      <td>100.000000</td>\n",
       "      <td>30</td>\n",
       "    </tr>\n",
       "    <tr>\n",
       "      <th>1</th>\n",
       "      <td>2022-02</td>\n",
       "      <td>Belo Horizonte</td>\n",
       "      <td>85.714286</td>\n",
       "      <td>49</td>\n",
       "    </tr>\n",
       "    <tr>\n",
       "      <th>2</th>\n",
       "      <td>2022-02</td>\n",
       "      <td>Campinas</td>\n",
       "      <td>75.925926</td>\n",
       "      <td>54</td>\n",
       "    </tr>\n",
       "    <tr>\n",
       "      <th>3</th>\n",
       "      <td>2022-02</td>\n",
       "      <td>Copacabana</td>\n",
       "      <td>77.464789</td>\n",
       "      <td>71</td>\n",
       "    </tr>\n",
       "    <tr>\n",
       "      <th>4</th>\n",
       "      <td>2022-02</td>\n",
       "      <td>Ipiranga</td>\n",
       "      <td>81.578947</td>\n",
       "      <td>76</td>\n",
       "    </tr>\n",
       "    <tr>\n",
       "      <th>...</th>\n",
       "      <td>...</td>\n",
       "      <td>...</td>\n",
       "      <td>...</td>\n",
       "      <td>...</td>\n",
       "    </tr>\n",
       "    <tr>\n",
       "      <th>649</th>\n",
       "      <td>2025-05</td>\n",
       "      <td>Jardins</td>\n",
       "      <td>54.545455</td>\n",
       "      <td>11</td>\n",
       "    </tr>\n",
       "    <tr>\n",
       "      <th>650</th>\n",
       "      <td>2025-05</td>\n",
       "      <td>Mooca</td>\n",
       "      <td>0.000000</td>\n",
       "      <td>2</td>\n",
       "    </tr>\n",
       "    <tr>\n",
       "      <th>651</th>\n",
       "      <td>2025-05</td>\n",
       "      <td>São Bernardo</td>\n",
       "      <td>100.000000</td>\n",
       "      <td>10</td>\n",
       "    </tr>\n",
       "    <tr>\n",
       "      <th>652</th>\n",
       "      <td>2025-05</td>\n",
       "      <td>Tatuapé</td>\n",
       "      <td>80.000000</td>\n",
       "      <td>10</td>\n",
       "    </tr>\n",
       "    <tr>\n",
       "      <th>653</th>\n",
       "      <td>2025-05</td>\n",
       "      <td>Tucuruvi</td>\n",
       "      <td>0.000000</td>\n",
       "      <td>2</td>\n",
       "    </tr>\n",
       "  </tbody>\n",
       "</table>\n",
       "<p>654 rows × 4 columns</p>\n",
       "</div>"
      ],
      "text/plain": [
       "       month            Store         NPS  count_of_responses\n",
       "0    2022-02  Barra da Tijuca  100.000000                  30\n",
       "1    2022-02   Belo Horizonte   85.714286                  49\n",
       "2    2022-02         Campinas   75.925926                  54\n",
       "3    2022-02       Copacabana   77.464789                  71\n",
       "4    2022-02         Ipiranga   81.578947                  76\n",
       "..       ...              ...         ...                 ...\n",
       "649  2025-05          Jardins   54.545455                  11\n",
       "650  2025-05            Mooca    0.000000                   2\n",
       "651  2025-05     São Bernardo  100.000000                  10\n",
       "652  2025-05          Tatuapé   80.000000                  10\n",
       "653  2025-05         Tucuruvi    0.000000                   2\n",
       "\n",
       "[654 rows x 4 columns]"
      ]
     },
     "execution_count": 34,
     "metadata": {},
     "output_type": "execute_result"
    }
   ],
   "source": [
    "df_nps_store_monthly"
   ]
  }
 ],
 "metadata": {
  "kernelspec": {
   "display_name": "base",
   "language": "python",
   "name": "python3"
  },
  "language_info": {
   "codemirror_mode": {
    "name": "ipython",
    "version": 3
   },
   "file_extension": ".py",
   "mimetype": "text/x-python",
   "name": "python",
   "nbconvert_exporter": "python",
   "pygments_lexer": "ipython3",
   "version": "3.12.7"
  }
 },
 "nbformat": 4,
 "nbformat_minor": 5
}
