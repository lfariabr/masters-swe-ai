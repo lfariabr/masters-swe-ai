{
 "cells": [
  {
   "cell_type": "markdown",
   "id": "2ac298fd",
   "metadata": {},
   "source": [
    "### Lib and Open"
   ]
  },
  {
   "cell_type": "code",
   "execution_count": 31,
   "id": "0620fc0f",
   "metadata": {},
   "outputs": [],
   "source": [
    "import os\n",
    "import pandas as pd\n",
    "\n",
    "folder = \"/Users/luisfaria/Desktop/sEngineer/masters_SWEAI/2025-T2/T2-REM/assignments/Assessment2\"\n",
    "\n",
    "# If in codespaces:\n",
    "# folder = \"/workspaces/masters-swe-ai/2025-T2/T2-REM/assignments/Assessment2\"\n",
    "\n",
    "# Open all .csv files in the folder\n",
    "for file in os.listdir(folder):\n",
    "    if file.endswith(\".csv\"):\n",
    "        df = pd.read_csv(os.path.join(folder, file))\n",
    "        print(df.shape)\n",
    "\n",
    "# Load datasets\n",
    "nps = pd.read_csv(\"nps/nps_data.csv\")\n",
    "revenue = pd.read_csv(\"sales/revenue_data.csv\")"
   ]
  },
  {
   "cell_type": "code",
   "execution_count": 32,
   "id": "9b128ce7",
   "metadata": {},
   "outputs": [],
   "source": [
    "revenue.columns = ['month', 'Store', 'revenue', 'count_of_orders']"
   ]
  },
  {
   "cell_type": "code",
   "execution_count": 33,
   "id": "0c9821cf",
   "metadata": {},
   "outputs": [
    {
     "data": {
      "text/html": [
       "<div>\n",
       "<style scoped>\n",
       "    .dataframe tbody tr th:only-of-type {\n",
       "        vertical-align: middle;\n",
       "    }\n",
       "\n",
       "    .dataframe tbody tr th {\n",
       "        vertical-align: top;\n",
       "    }\n",
       "\n",
       "    .dataframe thead th {\n",
       "        text-align: right;\n",
       "    }\n",
       "</style>\n",
       "<table border=\"1\" class=\"dataframe\">\n",
       "  <thead>\n",
       "    <tr style=\"text-align: right;\">\n",
       "      <th></th>\n",
       "      <th>month</th>\n",
       "      <th>Store</th>\n",
       "      <th>NPS</th>\n",
       "      <th>count_of_responses</th>\n",
       "      <th>revenue</th>\n",
       "      <th>count_of_orders</th>\n",
       "      <th>avg_nps</th>\n",
       "    </tr>\n",
       "  </thead>\n",
       "  <tbody>\n",
       "    <tr>\n",
       "      <th>0</th>\n",
       "      <td>2024-01</td>\n",
       "      <td>BELO HORIZONTE</td>\n",
       "      <td>65.000000</td>\n",
       "      <td>40</td>\n",
       "      <td>111643.77</td>\n",
       "      <td>182</td>\n",
       "      <td>65.000000</td>\n",
       "    </tr>\n",
       "    <tr>\n",
       "      <th>1</th>\n",
       "      <td>2024-01</td>\n",
       "      <td>CAMPINAS</td>\n",
       "      <td>91.044776</td>\n",
       "      <td>67</td>\n",
       "      <td>114131.31</td>\n",
       "      <td>246</td>\n",
       "      <td>75.986733</td>\n",
       "    </tr>\n",
       "    <tr>\n",
       "      <th>2</th>\n",
       "      <td>2024-01</td>\n",
       "      <td>COPACABANA</td>\n",
       "      <td>80.281690</td>\n",
       "      <td>71</td>\n",
       "      <td>225878.13</td>\n",
       "      <td>250</td>\n",
       "      <td>74.070324</td>\n",
       "    </tr>\n",
       "    <tr>\n",
       "      <th>3</th>\n",
       "      <td>2024-01</td>\n",
       "      <td>IPIRANGA</td>\n",
       "      <td>69.230769</td>\n",
       "      <td>65</td>\n",
       "      <td>234789.84</td>\n",
       "      <td>305</td>\n",
       "      <td>69.230769</td>\n",
       "    </tr>\n",
       "    <tr>\n",
       "      <th>4</th>\n",
       "      <td>2024-01</td>\n",
       "      <td>ITAIM</td>\n",
       "      <td>30.769231</td>\n",
       "      <td>13</td>\n",
       "      <td>99281.93</td>\n",
       "      <td>128</td>\n",
       "      <td>55.494505</td>\n",
       "    </tr>\n",
       "  </tbody>\n",
       "</table>\n",
       "</div>"
      ],
      "text/plain": [
       "     month           Store        NPS  count_of_responses    revenue  \\\n",
       "0  2024-01  BELO HORIZONTE  65.000000                  40  111643.77   \n",
       "1  2024-01        CAMPINAS  91.044776                  67  114131.31   \n",
       "2  2024-01      COPACABANA  80.281690                  71  225878.13   \n",
       "3  2024-01        IPIRANGA  69.230769                  65  234789.84   \n",
       "4  2024-01           ITAIM  30.769231                  13   99281.93   \n",
       "\n",
       "   count_of_orders    avg_nps  \n",
       "0              182  65.000000  \n",
       "1              246  75.986733  \n",
       "2              250  74.070324  \n",
       "3              305  69.230769  \n",
       "4              128  55.494505  "
      ]
     },
     "execution_count": 33,
     "metadata": {},
     "output_type": "execute_result"
    }
   ],
   "source": [
    "# Merging by store and month\n",
    "df = pd.merge(nps, revenue, on=[\"Store\", \"month\"], how=\"inner\")\n",
    "\n",
    "# Computing monthly averages\n",
    "df[\"avg_nps\"] = df.groupby(\"Store\")[\"NPS\"].transform(\"mean\")\n",
    "\n",
    "# Dataframe preview\n",
    "df.head()\n"
   ]
  },
  {
   "cell_type": "code",
   "execution_count": 34,
   "id": "7dce6208",
   "metadata": {},
   "outputs": [
    {
     "data": {
      "text/html": [
       "<div>\n",
       "<style scoped>\n",
       "    .dataframe tbody tr th:only-of-type {\n",
       "        vertical-align: middle;\n",
       "    }\n",
       "\n",
       "    .dataframe tbody tr th {\n",
       "        vertical-align: top;\n",
       "    }\n",
       "\n",
       "    .dataframe thead th {\n",
       "        text-align: right;\n",
       "    }\n",
       "</style>\n",
       "<table border=\"1\" class=\"dataframe\">\n",
       "  <thead>\n",
       "    <tr style=\"text-align: right;\">\n",
       "      <th></th>\n",
       "      <th>NPS</th>\n",
       "      <th>revenue</th>\n",
       "    </tr>\n",
       "  </thead>\n",
       "  <tbody>\n",
       "    <tr>\n",
       "      <th>count</th>\n",
       "      <td>67.000000</td>\n",
       "      <td>67.000000</td>\n",
       "    </tr>\n",
       "    <tr>\n",
       "      <th>mean</th>\n",
       "      <td>75.820018</td>\n",
       "      <td>179285.282836</td>\n",
       "    </tr>\n",
       "    <tr>\n",
       "      <th>std</th>\n",
       "      <td>28.704604</td>\n",
       "      <td>112676.584657</td>\n",
       "    </tr>\n",
       "    <tr>\n",
       "      <th>min</th>\n",
       "      <td>-100.000000</td>\n",
       "      <td>48331.610000</td>\n",
       "    </tr>\n",
       "    <tr>\n",
       "      <th>25%</th>\n",
       "      <td>66.666667</td>\n",
       "      <td>95715.870000</td>\n",
       "    </tr>\n",
       "    <tr>\n",
       "      <th>50%</th>\n",
       "      <td>81.818182</td>\n",
       "      <td>158653.140000</td>\n",
       "    </tr>\n",
       "    <tr>\n",
       "      <th>75%</th>\n",
       "      <td>92.397388</td>\n",
       "      <td>222530.025000</td>\n",
       "    </tr>\n",
       "    <tr>\n",
       "      <th>max</th>\n",
       "      <td>100.000000</td>\n",
       "      <td>601662.020000</td>\n",
       "    </tr>\n",
       "  </tbody>\n",
       "</table>\n",
       "</div>"
      ],
      "text/plain": [
       "              NPS        revenue\n",
       "count   67.000000      67.000000\n",
       "mean    75.820018  179285.282836\n",
       "std     28.704604  112676.584657\n",
       "min   -100.000000   48331.610000\n",
       "25%     66.666667   95715.870000\n",
       "50%     81.818182  158653.140000\n",
       "75%     92.397388  222530.025000\n",
       "max    100.000000  601662.020000"
      ]
     },
     "execution_count": 34,
     "metadata": {},
     "output_type": "execute_result"
    }
   ],
   "source": [
    "df.describe()[[\"NPS\", \"revenue\"]]"
   ]
  },
  {
   "cell_type": "code",
   "execution_count": 35,
   "id": "c0704122",
   "metadata": {},
   "outputs": [
    {
     "data": {
      "text/html": [
       "<div>\n",
       "<style scoped>\n",
       "    .dataframe tbody tr th:only-of-type {\n",
       "        vertical-align: middle;\n",
       "    }\n",
       "\n",
       "    .dataframe tbody tr th {\n",
       "        vertical-align: top;\n",
       "    }\n",
       "\n",
       "    .dataframe thead th {\n",
       "        text-align: right;\n",
       "    }\n",
       "</style>\n",
       "<table border=\"1\" class=\"dataframe\">\n",
       "  <thead>\n",
       "    <tr style=\"text-align: right;\">\n",
       "      <th></th>\n",
       "      <th>NPS</th>\n",
       "      <th>revenue</th>\n",
       "    </tr>\n",
       "  </thead>\n",
       "  <tbody>\n",
       "    <tr>\n",
       "      <th>NPS</th>\n",
       "      <td>1.000000</td>\n",
       "      <td>0.010176</td>\n",
       "    </tr>\n",
       "    <tr>\n",
       "      <th>revenue</th>\n",
       "      <td>0.010176</td>\n",
       "      <td>1.000000</td>\n",
       "    </tr>\n",
       "  </tbody>\n",
       "</table>\n",
       "</div>"
      ],
      "text/plain": [
       "              NPS   revenue\n",
       "NPS      1.000000  0.010176\n",
       "revenue  0.010176  1.000000"
      ]
     },
     "execution_count": 35,
     "metadata": {},
     "output_type": "execute_result"
    }
   ],
   "source": [
    "corr = df[[\"NPS\", \"revenue\"]].corr(method=\"pearson\")\n",
    "corr"
   ]
  },
  {
   "cell_type": "code",
   "execution_count": 44,
   "id": "a64890df",
   "metadata": {},
   "outputs": [
    {
     "data": {
      "image/png": "[encoded data removed]",
      "text/plain": [
       "<Figure size 500x400 with 2 Axes>"
      ]
     },
     "metadata": {},
     "output_type": "display_data"
    },
    {
     "name": "stdout",
     "output_type": "stream",
     "text": [
      "Correlation coefficient: 0.010\n"
     ]
    }
   ],
   "source": [
    "# Add correlation heatmap between revenue and NPS\n",
    "import seaborn as sns\n",
    "import matplotlib.pyplot as plt\n",
    "\n",
    "# Create correlation heatmap\n",
    "plt.figure(figsize=(5, 4))\n",
    "correlation_matrix = df[['revenue', 'NPS']].corr()\n",
    "sns.heatmap(correlation_matrix, annot=True, cmap='coolwarm', center=0, \n",
    "            square=True, linewidths=0.5)\n",
    "plt.title('Correlation between Revenue and NPS')\n",
    "plt.tight_layout()\n",
    "plt.show()\n",
    "\n",
    "# Print correlation coefficient\n",
    "correlation = df['revenue'].corr(df['NPS'])\n",
    "print(f\"Correlation coefficient: {correlation:.3f}\")\n"
   ]
  },
  {
   "cell_type": "code",
   "execution_count": 45,
   "id": "964669d5",
   "metadata": {},
   "outputs": [
    {
     "data": {
      "image/png": "[encoded data removed]",
      "text/plain": [
       "<Figure size 500x400 with 1 Axes>"
      ]
     },
     "metadata": {},
     "output_type": "display_data"
    }
   ],
   "source": [
    "# Add scatter_nps_vs_revenue between NPS and revenue\n",
    "def scatter_nps_vs_revenue(df):\n",
    "    \"\"\"Create scatter plot of NPS vs revenue\"\"\"\n",
    "    plt.figure(figsize=(5, 4))\n",
    "    plt.scatter(df['NPS'], df['revenue'], alpha=0.6)\n",
    "    plt.xlabel('NPS')\n",
    "    plt.ylabel('revenue')\n",
    "    plt.title('NPS vs revenue')\n",
    "    plt.grid(True, alpha=0.3)\n",
    "    plt.show()\n",
    "\n",
    "# Call the function\n",
    "scatter_nps_vs_revenue(df)\n"
   ]
  },
  {
   "cell_type": "code",
   "execution_count": null,
   "id": "08c6d2e4",
   "metadata": {},
   "outputs": [],
   "source": []
  },
  {
   "cell_type": "code",
   "execution_count": 36,
   "id": "ba8da6e9",
   "metadata": {},
   "outputs": [],
   "source": [
    "# Export two clean visualizations from your .ipynb:\n",
    "# 1.correlation_heatmap.png\n",
    "# 2.scatter_nps_vs_revenue.png"
   ]
  }
 ],
 "metadata": {
  "kernelspec": {
   "display_name": "base",
   "language": "python",
   "name": "python3"
  },
  "language_info": {
   "codemirror_mode": {
    "name": "ipython",
    "version": 3
   },
   "file_extension": ".py",
   "mimetype": "text/x-python",
   "name": "python",
   "nbconvert_exporter": "python",
   "pygments_lexer": "ipython3",
   "version": "3.12.7"
  }
 },
 "nbformat": 4,
 "nbformat_minor": 5
}
